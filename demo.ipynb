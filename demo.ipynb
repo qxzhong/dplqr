{
 "cells": [
  {
   "cell_type": "code",
   "execution_count": 108,
   "id": "26bbda4c",
   "metadata": {},
   "outputs": [],
   "source": [
    "import numpy as np\n",
    "import pandas as pd\n",
    "import matplotlib.pyplot as plt\n",
    "import statsmodels.formula.api as smf\n",
    "import torch\n",
    "from sklearn.preprocessing import StandardScaler\n",
    "from sklearn_pandas import DataFrameMapper\n",
    "import torchtuples as tt\n",
    "from torchtuples import Model\n",
    "from sklearn.model_selection import train_test_split\n",
    "\n",
    "from dqAux import dqNetSparse,checkLoss,checkErrorMean,getSESingle"
   ]
  },
  {
   "cell_type": "code",
   "execution_count": 109,
   "id": "77c052ff",
   "metadata": {},
   "outputs": [],
   "source": [
    "df  = pd.read_csv(\"./data/concrete.csv\")\n",
    "df_train,df_test = train_test_split(df,test_size=0.2)"
   ]
  },
  {
   "cell_type": "code",
   "execution_count": 110,
   "id": "641ce771",
   "metadata": {},
   "outputs": [
    {
     "data": {
      "text/html": [
       "<div>\n",
       "<style scoped>\n",
       "    .dataframe tbody tr th:only-of-type {\n",
       "        vertical-align: middle;\n",
       "    }\n",
       "\n",
       "    .dataframe tbody tr th {\n",
       "        vertical-align: top;\n",
       "    }\n",
       "\n",
       "    .dataframe thead th {\n",
       "        text-align: right;\n",
       "    }\n",
       "</style>\n",
       "<table border=\"1\" class=\"dataframe\">\n",
       "  <thead>\n",
       "    <tr style=\"text-align: right;\">\n",
       "      <th></th>\n",
       "      <th>blst</th>\n",
       "      <th>flh</th>\n",
       "      <th>sup</th>\n",
       "      <th>cag</th>\n",
       "      <th>fag</th>\n",
       "      <th>age</th>\n",
       "      <th>inX</th>\n",
       "      <th>outY</th>\n",
       "    </tr>\n",
       "  </thead>\n",
       "  <tbody>\n",
       "    <tr>\n",
       "      <th>0</th>\n",
       "      <td>0.0</td>\n",
       "      <td>0.0</td>\n",
       "      <td>2.5</td>\n",
       "      <td>1040.0</td>\n",
       "      <td>676.0</td>\n",
       "      <td>28</td>\n",
       "      <td>0.300000</td>\n",
       "      <td>4.381901</td>\n",
       "    </tr>\n",
       "    <tr>\n",
       "      <th>1</th>\n",
       "      <td>0.0</td>\n",
       "      <td>0.0</td>\n",
       "      <td>2.5</td>\n",
       "      <td>1055.0</td>\n",
       "      <td>676.0</td>\n",
       "      <td>28</td>\n",
       "      <td>0.300000</td>\n",
       "      <td>4.125358</td>\n",
       "    </tr>\n",
       "    <tr>\n",
       "      <th>2</th>\n",
       "      <td>142.5</td>\n",
       "      <td>0.0</td>\n",
       "      <td>0.0</td>\n",
       "      <td>932.0</td>\n",
       "      <td>594.0</td>\n",
       "      <td>270</td>\n",
       "      <td>0.685714</td>\n",
       "      <td>3.695607</td>\n",
       "    </tr>\n",
       "    <tr>\n",
       "      <th>3</th>\n",
       "      <td>142.5</td>\n",
       "      <td>0.0</td>\n",
       "      <td>0.0</td>\n",
       "      <td>932.0</td>\n",
       "      <td>594.0</td>\n",
       "      <td>365</td>\n",
       "      <td>0.685714</td>\n",
       "      <td>3.714791</td>\n",
       "    </tr>\n",
       "    <tr>\n",
       "      <th>4</th>\n",
       "      <td>132.4</td>\n",
       "      <td>0.0</td>\n",
       "      <td>0.0</td>\n",
       "      <td>978.4</td>\n",
       "      <td>825.5</td>\n",
       "      <td>360</td>\n",
       "      <td>0.966767</td>\n",
       "      <td>3.790984</td>\n",
       "    </tr>\n",
       "  </tbody>\n",
       "</table>\n",
       "</div>"
      ],
      "text/plain": [
       "    blst  flh  sup     cag    fag  age       inX      outY\n",
       "0    0.0  0.0  2.5  1040.0  676.0   28  0.300000  4.381901\n",
       "1    0.0  0.0  2.5  1055.0  676.0   28  0.300000  4.125358\n",
       "2  142.5  0.0  0.0   932.0  594.0  270  0.685714  3.695607\n",
       "3  142.5  0.0  0.0   932.0  594.0  365  0.685714  3.714791\n",
       "4  132.4  0.0  0.0   978.4  825.5  360  0.966767  3.790984"
      ]
     },
     "execution_count": 110,
     "metadata": {},
     "output_type": "execute_result"
    }
   ],
   "source": [
    "df.head(5)"
   ]
  },
  {
   "cell_type": "code",
   "execution_count": 111,
   "id": "ed51a5c1",
   "metadata": {},
   "outputs": [],
   "source": [
    "# hyperparameters\n",
    "batch_size = 128\n",
    "nodes = [5,128] # number of network layers and nodes per layer\n",
    "lr = 0.001\n",
    "epochs = 500\n",
    "verbose = False\n",
    "sparseRatio = 0.5"
   ]
  },
  {
   "cell_type": "code",
   "execution_count": 112,
   "id": "e5874869",
   "metadata": {},
   "outputs": [],
   "source": [
    "df_train_lin = df_train\n",
    "df_val = df_train.sample(frac=0.1)\n",
    "df_train = df_train.drop(df_val.index)"
   ]
  },
  {
   "cell_type": "code",
   "execution_count": 113,
   "id": "df37e098",
   "metadata": {},
   "outputs": [],
   "source": [
    "# standardize covariates\n",
    "cols_standardize = ['inX','blst','flh','sup','cag','fag', 'age']\n",
    "cols_leave = []\n",
    "\n",
    "standardize = [([col], StandardScaler()) for col in cols_standardize]\n",
    "leave = [(col, None) for col in cols_leave]\n",
    "x_mapper = DataFrameMapper(standardize + leave)\n",
    "\n",
    "x_train_nonpar = torch.tensor(x_mapper.fit_transform(df_train).astype('float32'))\n",
    "x_val_nonpar = torch.tensor(x_mapper.transform(df_val).astype('float32'))\n",
    "x_test_nonpar = torch.tensor(x_mapper.transform(df_test).astype('float32'))\n",
    "\n",
    "x_train_lin = torch.tensor(df_train['inX'].values).view(len(df_train),1).type(torch.float32)\n",
    "x_test_lin = torch.tensor(df_test['inX'].values).view(len(df_test),1).type(torch.float32)\n",
    "x_val_lin = torch.tensor(df_val['inX'].values).view(len(df_val),1).type(torch.float32)\n",
    "\n",
    "y_train = torch.tensor(df_train['outY'].values).view(len(df_train),1).type(torch.float32)\n",
    "y_test = torch.tensor(df_test['outY'].values).view(len(df_test),1).type(torch.float32)\n",
    "y_val = torch.tensor(df_val['outY'].values).view(len(df_val),1).type(torch.float32)\n",
    "\n",
    "x_train = (x_train_lin,x_train_nonpar)\n",
    "x_test = (x_test_lin,x_test_nonpar)\n",
    "x_val = (x_val_lin,x_val_nonpar)\n",
    "val_data = (x_val,y_val)"
   ]
  },
  {
   "cell_type": "code",
   "execution_count": 114,
   "id": "8faa6ab7",
   "metadata": {},
   "outputs": [],
   "source": [
    "dim_lin,dim_nonpar=1,x_val_nonpar.shape[1]\n",
    "tau_seq = [(i+1)/50 for i in range(49)]# quantile interval [0.02,0.98]\n",
    "resTab = np.zeros((len(tau_seq),5))\n",
    "resTabLin = np.zeros((len(tau_seq),5))\n",
    "i=0"
   ]
  },
  {
   "cell_type": "code",
   "execution_count": 115,
   "id": "f80ff136",
   "metadata": {},
   "outputs": [
    {
     "name": "stderr",
     "output_type": "stream",
     "text": [
      "/Users/qxzhong/opt/anaconda3/lib/python3.9/site-packages/statsmodels/regression/quantile_regression.py:190: IterationLimitWarning: Maximum number of iterations (1000) reached.\n",
      "  warnings.warn(\"Maximum number of iterations (\" + str(max_iter) +\n",
      "/Users/qxzhong/opt/anaconda3/lib/python3.9/site-packages/statsmodels/regression/quantile_regression.py:190: IterationLimitWarning: Maximum number of iterations (1000) reached.\n",
      "  warnings.warn(\"Maximum number of iterations (\" + str(max_iter) +\n",
      "/Users/qxzhong/opt/anaconda3/lib/python3.9/site-packages/statsmodels/regression/quantile_regression.py:190: IterationLimitWarning: Maximum number of iterations (1000) reached.\n",
      "  warnings.warn(\"Maximum number of iterations (\" + str(max_iter) +\n",
      "/Users/qxzhong/opt/anaconda3/lib/python3.9/site-packages/statsmodels/regression/quantile_regression.py:190: IterationLimitWarning: Maximum number of iterations (1000) reached.\n",
      "  warnings.warn(\"Maximum number of iterations (\" + str(max_iter) +\n"
     ]
    }
   ],
   "source": [
    "# training model with different quantile levels\n",
    "for tau in tau_seq:\n",
    "    # linear quantile regression (LQR)\n",
    "    model_lin = smf.quantreg(\"outY~inX+blst+flh+sup+cag+fag+age\",df_train_lin).fit(q=tau)\n",
    "    paramsLin = model_lin.params[1]\n",
    "    model_lin.bse\n",
    "    model_lin.conf_int().loc['inX']\n",
    "    # prediction for LQR\n",
    "    pred_lin = model_lin.predict(df_test).values\n",
    "    predErrLin = checkErrorMean(pred_lin.reshape(len(pred_lin),1),y_test.numpy(),tau=tau)\n",
    "    \n",
    "    # training Partially Linear Quantile Regression (DPLQR)\n",
    "    coef_init_weight=torch.tensor(paramsLin,dtype=y_train.dtype)\n",
    "    loss = checkLoss(tau=tau)\n",
    "    model = Model(dqNetSparse(dim_lin,dim_nonpar,coef_init_weight,nodes,sparseRatio),loss)\n",
    "    model.optimizer.set_lr(lr)\n",
    "    callbacks = [tt.callbacks.EarlyStopping()]\n",
    "    model.fit(x_train,y_train,batch_size,epochs,callbacks,verbose,val_data=val_data, val_batch_size=batch_size)\n",
    "    weights = list(model.net.parameters())\n",
    "    \n",
    "    # calculate standard error\n",
    "    x_resd = (torch.cat((x_train[0],x_val[0]),dim=0),torch.cat((x_train[1],x_val[1]),dim=0))\n",
    "    resdErr = (torch.cat((y_train,y_val),dim=0) - model.predict(x_resd)).numpy()\n",
    "\n",
    "    callbacks = [tt.callbacks.EarlyStopping()]\n",
    "    # obtain asymptotic covariance matrix\n",
    "    se = getSESingle(x_train,x_val,resdErr,tau,nodes,batch_size,lr,epochs, callbacks,verbose,logic=True)\n",
    "    \n",
    "    # prediction error (w.r.t. check loss) on test set\n",
    "    preds = model.predict(x_test)\n",
    "    check_loss_tau = checkErrorMean(preds.numpy(),y_test.numpy(),tau=tau)\n",
    "    deepCoefEst=weights[0].detach().numpy()[0][0]\n",
    "    \n",
    "    intvLin = (model_lin.conf_int().loc['inX'][0],model_lin.conf_int().loc['inX'][1])\n",
    "    s1=[tau,deepCoefEst,deepCoefEst-1.96*se[0],deepCoefEst+1.96*se[0],check_loss_tau]\n",
    "    s2=[tau,paramsLin,intvLin[0],intvLin[1],predErrLin]\n",
    "    \n",
    "    resTab[i,:] = s1\n",
    "    resTabLin[i,:] = s2\n",
    "    i=i+1\n",
    "    \n",
    "resDeep = pd.DataFrame(resTab)\n",
    "resDeep.columns = ['tau','estCoef','lowerCI','upperCI','CL']\n",
    "resLin = pd.DataFrame(resTabLin)\n",
    "resLin.columns = ['tau','estCoef','lowerCI','upperCI','CL']"
   ]
  },
  {
   "cell_type": "code",
   "execution_count": 116,
   "id": "845502bc",
   "metadata": {},
   "outputs": [
    {
     "name": "stdout",
     "output_type": "stream",
     "text": [
      "95% CI Area under DPLQR: 0.2223621286694169\n",
      "95% CI Area under LQR: 0.3364240113753357\n"
     ]
    }
   ],
   "source": [
    "# confidence intervals area via Riemann sum\n",
    "delta = tau_seq[1]-tau_seq[0]\n",
    "CIArea = ((resDeep['upperCI'] - resDeep['lowerCI'])*delta).sum()\n",
    "CIAreaLin = ((resLin['upperCI'] - resLin['lowerCI'])*delta).sum()\n",
    "print(\"95% CI Area under DPLQR:\",CIArea)\n",
    "print(\"95% CI Area under LQR:\",CIAreaLin)"
   ]
  },
  {
   "cell_type": "code",
   "execution_count": 117,
   "id": "03d61667",
   "metadata": {},
   "outputs": [
    {
     "name": "stdout",
     "output_type": "stream",
     "text": [
      "ACL under DPLQR: 0.058949435222893955\n",
      "ACL under LQR: 0.09680439909407373\n"
     ]
    }
   ],
   "source": [
    "# ACL\n",
    "acl = (resDeep['CL']*delta).sum()\n",
    "aclLin = (resLin['CL']*delta).sum()\n",
    "print('ACL under DPLQR:',acl)\n",
    "print('ACL under LQR:',aclLin)"
   ]
  },
  {
   "cell_type": "code",
   "execution_count": 118,
   "id": "93d9dfea",
   "metadata": {},
   "outputs": [],
   "source": [
    "# save for plot\n",
    "resDeep.to_csv('./data/resDeep.csv')\n",
    "resLin.to_csv('./data/resLin.csv')"
   ]
  },
  {
   "cell_type": "code",
   "execution_count": 119,
   "id": "8ba26e0a",
   "metadata": {},
   "outputs": [],
   "source": [
    "# save train and test data for PLAQR\n",
    "# which is implemented by R package plaqr\n",
    "df_train.to_csv(\"./data/df_train.csv\")\n",
    "df_test.to_csv(\"./data/df_test.csv\")"
   ]
  }
 ],
 "metadata": {
  "kernelspec": {
   "display_name": "Python 3 (ipykernel)",
   "language": "python",
   "name": "python3"
  },
  "language_info": {
   "codemirror_mode": {
    "name": "ipython",
    "version": 3
   },
   "file_extension": ".py",
   "mimetype": "text/x-python",
   "name": "python",
   "nbconvert_exporter": "python",
   "pygments_lexer": "ipython3",
   "version": "3.9.7"
  }
 },
 "nbformat": 4,
 "nbformat_minor": 5
}
